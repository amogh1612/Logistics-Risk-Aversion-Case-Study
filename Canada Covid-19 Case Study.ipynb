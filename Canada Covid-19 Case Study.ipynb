{
 "cells": [
  {
   "cell_type": "markdown",
   "id": "345f28aa",
   "metadata": {},
   "source": [
    "Canada Covid-19 Case Study"
   ]
  },
  {
   "cell_type": "code",
   "execution_count": null,
   "id": "1c789df3",
   "metadata": {},
   "outputs": [],
   "source": [
    "import pandas as pd\n",
    "import numpy as np\n",
    "\n",
    "wk12virus_df = pd.read_csv('Canada Coronavirus Wk12.csv')\n",
    "wk13virus_df = pd.read_csv('Canada Coronavirus Wk13.csv')\n",
    "\n",
    "wk12orders_df = pd.read_csv('Canada Orders Wk12.csv')\n",
    "wk13orders_df = pd.read_csv('Canada Orders Wk13.csv')"
   ]
  },
  {
   "cell_type": "markdown",
   "id": "8ead8953",
   "metadata": {},
   "source": [
    "Creating DataFrames for each file"
   ]
  },
  {
   "cell_type": "code",
   "execution_count": null,
   "id": "912cdf4f",
   "metadata": {},
   "outputs": [],
   "source": [
    "# dataframe for week 12 virus file\n",
    "wk12virus_df.head(10)"
   ]
  },
  {
   "cell_type": "code",
   "execution_count": null,
   "id": "e9717bf6",
   "metadata": {},
   "outputs": [],
   "source": [
    "# dataframe for week 13 virus file\n",
    "wk13virus_df.head()"
   ]
  },
  {
   "cell_type": "code",
   "execution_count": null,
   "id": "cd390742",
   "metadata": {},
   "outputs": [],
   "source": [
    "# dataframe for week 12 order file\n",
    "wk12orders_df.head()\n",
    "wk12orders_df['POSTAL_FIRST_LETTER'] = wk12orders_df['SHIP_TO_POSTAL_CODE'].str.slice(0, 1)\n",
    "wk12orders_df.groupby('POSTAL_FIRST_LETTER').agg({'CARTON_ESTIMATION_COUNT':\"sum\"})"
   ]
  },
  {
   "cell_type": "code",
   "execution_count": null,
   "id": "18447c08",
   "metadata": {},
   "outputs": [],
   "source": [
    "# dataframe for week 13 order file\n",
    "wk13orders_df.head()\n",
    "wk13orders_df['POSTAL_FIRST_LETTER'] = wk13orders_df['SHIP_TO_POSTAL_CODE'].str.slice(0, 1)\n",
    "wk13orders_df.groupby(['POSTAL_FIRST_LETTER']).agg({'CARTON_ESTIMATION_COUNT':\"sum\"})"
   ]
  },
  {
   "cell_type": "markdown",
   "id": "3cec8ec5",
   "metadata": {},
   "source": [
    "Cleaning up week 13 orders data"
   ]
  },
  {
   "cell_type": "code",
   "execution_count": null,
   "id": "d781d6f2",
   "metadata": {},
   "outputs": [],
   "source": [
    "# Clean up week 13 by fixing TBD and replacing with a space\n",
    "wk13orders_df['SHIP_TO_STATE'] = wk13orders_df['SHIP_TO_STATE'].replace('TBD','')"
   ]
  },
  {
   "cell_type": "code",
   "execution_count": null,
   "id": "0fbd02be",
   "metadata": {},
   "outputs": [],
   "source": [
    "wk13orders_df.head()"
   ]
  },
  {
   "cell_type": "markdown",
   "id": "ff3881d7",
   "metadata": {},
   "source": [
    "Creating a Covid Impact DataFrame along with an Order DataFrame"
   ]
  },
  {
   "cell_type": "code",
   "execution_count": null,
   "id": "6fabc655",
   "metadata": {},
   "outputs": [],
   "source": [
    "#Creating a covid impact data frame, and making it readable\n",
    "#outer join to ensure no data is lost\n",
    "covid_impact_df = pd.merge(wk12virus_df, wk13virus_df, how = 'outer', left_on=['Provinence', 'Postal Code First Letter'], right_on = ['Provinence', 'Postal Code First Letter'])\n",
    "\n",
    "# dropped column because its information is elsewhere\n",
    "covid_impact_df.drop(['Country_y'], axis=1, inplace =True)\n",
    "\n",
    "# renaming columns\n",
    "covid_impact_df.rename(columns = {'Week_x':'Week 12', 'Weekly Cases_x':'Weekly Cases Wk 12', \n",
    "                                  'Weekly Impact_x':'Weekly Impact Wk 12','Country_x':'Country',\n",
    "                                  'Total Cases_x': 'Total Cases Wk 12','Overall Impact_x':'Overall Impact Wk 12' \n",
    "                                 }, inplace = True)\n",
    "\n",
    "covid_impact_df.rename(columns = {'Week_y':'Week 13', 'Weekly Cases_y':'Weekly Cases Wk 13', \n",
    "                                  'Weekly Impact_y':'Weekly Impact Wk 13',\n",
    "                                  'Total Cases_y': 'Total Cases Wk 13','Overall Impact_y':'Overall Impact Wk 13' \n",
    "                                 }, inplace = True)\n",
    "\n",
    "covid_impact_df.head(20)"
   ]
  },
  {
   "cell_type": "code",
   "execution_count": null,
   "id": "14f2dcaf",
   "metadata": {},
   "outputs": [],
   "source": [
    "# table made for the order data, outer join again to make sure no data lost\n",
    "order_df = pd.merge(wk12orders_df, wk13orders_df, how = 'outer', left_on=['ORDER_NUMBER', 'SHIP_TO_POSTAL_CODE'], right_on =['ORDER_NUMBER', 'SHIP_TO_POSTAL_CODE'])\n",
    "order_df['POSTAL_FIRST_LETTER'] = order_df['SHIP_TO_POSTAL_CODE'].str.slice(0, 1)\n",
    "\n",
    "order_df.rename(columns = {'SHIP_TO_CITY_x' : 'SHIP_TO_CITY_Wk12','SHIP_TO_COUNTRY_x':'Country'}, inplace = True)\n",
    "order_df.rename(columns = {'SHIP_TO_STATE_x' : 'SHIP_TO_STATE_Wk12','SOL_REVENUE_x':'SOL_REVENUE_Wk12'}, inplace = True)\n",
    "order_df.rename(columns = {'CARTON_ESTIMATION_COUNT_x' : 'CARTON_ESTIMATION_COUNT_Wk12','SALES_HIERARCHY_LEVEL4_x':'SALES_HIERARCHY_LEVEL4_Wk12'}, inplace = True)\n",
    "\n",
    "order_df.rename(columns = {'SHIP_TO_CITY_y' : 'SHIP_TO_CITY_Wk13'}, inplace = True)\n",
    "order_df.rename(columns = {'SHIP_TO_STATE_y' : 'SHIP_TO_STATE_Wk13','SOL_REVENUE_y':'SOL_REVENUE_Wk13'}, inplace = True)\n",
    "order_df.rename(columns = {'CARTON_ESTIMATION_COUNT_y' : 'CARTON_ESTIMATION_COUNT_Wk13','SALES_HIERARCHY_LEVEL4_y':'SALES_HIERARCHY_LEVEL4_Wk13'}, inplace = True)\n",
    "\n",
    "order_df.drop(['SHIP_TO_COUNTRY_y'], axis=1, inplace =True)"
   ]
  },
  {
   "cell_type": "markdown",
   "id": "e4cb1eb8",
   "metadata": {},
   "source": [
    "Merging both Order DataFrame and the Covid Impact DataFrame to create a Combined DataFrame"
   ]
  },
  {
   "cell_type": "code",
   "execution_count": null,
   "id": "bfc9d91f",
   "metadata": {},
   "outputs": [],
   "source": [
    "# combined Merged Data Frame of both\n",
    "combined_df = pd.merge(covid_impact_df, order_df, left_on = 'Postal Code First Letter', right_on = 'POSTAL_FIRST_LETTER')\n",
    "#dropping duplicates \n",
    "combined_df.drop_duplicates(inplace = True)\n",
    "\n",
    "combined_df.head(50)"
   ]
  },
  {
   "cell_type": "markdown",
   "id": "6be1840f",
   "metadata": {},
   "source": [
    "Finding out the most impacted provinence for Week 12 (Most impacted meaning most cases)"
   ]
  },
  {
   "cell_type": "code",
   "execution_count": null,
   "id": "b22910f7",
   "metadata": {},
   "outputs": [],
   "source": [
    "#finding out the most impacted provinence by wk12 weekly case count \n",
    "max_values = wk12virus_df['Weekly Cases']\n",
    "max_value.max()"
   ]
  },
  {
   "cell_type": "code",
   "execution_count": null,
   "id": "980f7dc2",
   "metadata": {},
   "outputs": [],
   "source": [
    "wk12max = wk12virus_df"
   ]
  },
  {
   "cell_type": "code",
   "execution_count": null,
   "id": "c2bc3a6c",
   "metadata": {},
   "outputs": [],
   "source": [
    "wk12max.drop(['Postal Code First Letter'], axis=1, inplace =True)"
   ]
  },
  {
   "cell_type": "code",
   "execution_count": null,
   "id": "925c8c90",
   "metadata": {},
   "outputs": [],
   "source": [
    "wk12max.drop_duplicates(inplace = True)\n",
    "# Basically, going to sort so that the top of the dataframe will have the most weekly cases and then going to use iloc[0] to get the top provinence value\n",
    "wk12max.sort_values(by=['Weekly Cases'], ascending = False, inplace = True)\n",
    "maxProvinence = wk12max['Provinence'].iloc[0]\n",
    "wk12max.head(15)"
   ]
  },
  {
   "cell_type": "code",
   "execution_count": null,
   "id": "413845bd",
   "metadata": {},
   "outputs": [],
   "source": [
    "maxProvinence = wk12max['Provinence'].iloc[0]\n",
    "maxProvinence "
   ]
  },
  {
   "cell_type": "markdown",
   "id": "ce4d0dc8",
   "metadata": {},
   "source": [
    "Finding out the least impacted provinence for Week 13 (Lease amount of cases for least impact)"
   ]
  },
  {
   "cell_type": "code",
   "execution_count": null,
   "id": "4bfc6b08",
   "metadata": {},
   "outputs": [],
   "source": [
    "#finding out the least impacted provinence by wk13 weekly case count \n",
    "\n",
    "# Creating new dataframe\n",
    "wk13min = wk13virus_df\n",
    "\n",
    "#dropped postal code column so that duplicated wil be dropped (do not need it, but made copy so it will not impact original data frame)\n",
    "wk13min.drop(['Postal Code First Letter'], axis=1, inplace =True)\n",
    "wk13min.drop_duplicates(inplace = True)\n",
    "\n",
    "# ascending true makes it go from smallest -> largest weekly cases from top row\n",
    "wk13min.sort_values(by=['Weekly Cases'], ascending = True, inplace = True)\n",
    "maxProvinence = wk13min['Provinence'].iloc[0]\n",
    "wk13min.head(15)"
   ]
  },
  {
   "cell_type": "code",
   "execution_count": null,
   "id": "499d3805",
   "metadata": {},
   "outputs": [],
   "source": [
    "#similar method to what was used to get most impacted\n",
    "minProvinence = wk13min['Provinence'].iloc[0]\n",
    "minProvinence"
   ]
  },
  {
   "cell_type": "markdown",
   "id": "1aa66732",
   "metadata": {},
   "source": [
    "Finding the total impacted revenue for week 12 for each sales organization"
   ]
  },
  {
   "cell_type": "code",
   "execution_count": null,
   "id": "535623f0",
   "metadata": {},
   "outputs": [],
   "source": [
    "#total impacted revenue by sales organization\n",
    "wk12orders_df.head()"
   ]
  },
  {
   "cell_type": "code",
   "execution_count": null,
   "id": "6e59d60d",
   "metadata": {},
   "outputs": [],
   "source": [
    "wk12revenue = wk12orders_df.groupby(['SALES_HIERARCHY_LEVEL4'], as_index = False).agg({'SOL_REVENUE':\"sum\"})\n",
    "#(df.groupby(\"Groups\", as_index=False).agg({\"Date\":\"first\", \"data1\":\"sum\", \"data2\":\"sum\"}))"
   ]
  },
  {
   "cell_type": "code",
   "execution_count": null,
   "id": "c56a7d58",
   "metadata": {},
   "outputs": [],
   "source": [
    "wk12revenue.head()"
   ]
  },
  {
   "cell_type": "markdown",
   "id": "90df44b3",
   "metadata": {},
   "source": [
    "Within the most impacted provinence, find the total impacted revenue for each sales organziation in week 13"
   ]
  },
  {
   "cell_type": "code",
   "execution_count": null,
   "id": "25c89133",
   "metadata": {},
   "outputs": [],
   "source": [
    "#Find out the total impacted revenue in week13 for each sales organization within the most impacted provenience (most impacted by case count)\n",
    "wk13max = wk13virus_df\n",
    "#wk13max.drop(['Postal Code First Letter'], axis=1, inplace =True)\n",
    "wk13max.drop_duplicates(inplace = True)\n",
    "wk13max.sort_values(by=['Weekly Cases'], ascending = False, inplace = True)\n",
    "\n",
    "mostAffectedProv = wk13max['Provinence'].iloc[0]\n",
    "\n",
    "mostAffectedProv"
   ]
  },
  {
   "cell_type": "code",
   "execution_count": null,
   "id": "bc1f4fb5",
   "metadata": {},
   "outputs": [],
   "source": [
    "wk13affectedOrders = combined_df\n",
    "wk13affectedOrders = combined_df.groupby(['SALES_HIERARCHY_LEVEL4_Wk13','Provinence'], as_index = False).agg({'SOL_REVENUE_Wk13':\"sum\"})\n",
    "filter = wk13affectedOrders['Provinence'] == mostAffectedProv\n"
   ]
  },
  {
   "cell_type": "code",
   "execution_count": null,
   "id": "c6d60c3d",
   "metadata": {},
   "outputs": [],
   "source": [
    "wk13affectedOrders.head(25)"
   ]
  },
  {
   "cell_type": "code",
   "execution_count": null,
   "id": "529e904e",
   "metadata": {},
   "outputs": [],
   "source": [
    "wk13affectedOrders[filter]"
   ]
  },
  {
   "cell_type": "markdown",
   "id": "396d786c",
   "metadata": {},
   "source": [
    "During Week 12, how many cartons will be stuck within each postal code"
   ]
  },
  {
   "cell_type": "code",
   "execution_count": null,
   "id": "469d6bef",
   "metadata": {},
   "outputs": [],
   "source": [
    "#How many cartons will be stuck within each postal code(use column: Postal Code FirstLetter)during wk12?\n",
    "\n",
    "wk12orders_df['POSTAL_FIRST_LETTER'] = wk12orders_df['SHIP_TO_POSTAL_CODE'].str.slice(0, 1)\n",
    "wk12carton = wk12orders_df\n",
    "wk12carton = wk12orders_df.groupby(['POSTAL_FIRST_LETTER'], as_index = False).agg({'CARTON_ESTIMATION_COUNT':\"sum\"})\n"
   ]
  },
  {
   "cell_type": "code",
   "execution_count": null,
   "id": "92a00404",
   "metadata": {},
   "outputs": [],
   "source": [
    "wk12carton.head(30)"
   ]
  },
  {
   "cell_type": "markdown",
   "id": "55496bbc",
   "metadata": {},
   "source": [
    "Finding how many cartons will be stuck in Postal Code First Letter “X” by provenience “Northwest Territories” and “Nunavut” during wk13"
   ]
  },
  {
   "cell_type": "code",
   "execution_count": null,
   "id": "e97cdcff",
   "metadata": {},
   "outputs": [],
   "source": [
    "#stuckCartons = combined_df.where(combined_df['Postal Code First Letter'] == 'L').groupby(['Provinence'], as_index=False).agg({'CARTON_ESTIMATION_COUNT_Wk12':\"sum\"})\n",
    "\n",
    "wk13virus_df = pd.read_csv('Canada Coronavirus Wk13.csv')\n",
    "dfCarton = pd.merge(wk13orders_df,wk13virus_df, how = 'left', left_on='POSTAL_FIRST_LETTER',right_on='Postal Code First Letter')\n",
    "\n",
    "dfCartonstuck = dfCarton.where(dfCarton['Postal Code First Letter'] == 'L').groupby(['Provinence'], as_index=False).agg({'CARTON_ESTIMATION_COUNT':\"sum\"})\n",
    "dfCartonstuck"
   ]
  }
 ],
 "metadata": {
  "kernelspec": {
   "display_name": "Python 3 (ipykernel)",
   "language": "python",
   "name": "python3"
  },
  "language_info": {
   "codemirror_mode": {
    "name": "ipython",
    "version": 3
   },
   "file_extension": ".py",
   "mimetype": "text/x-python",
   "name": "python",
   "nbconvert_exporter": "python",
   "pygments_lexer": "ipython3",
   "version": "3.10.9"
  }
 },
 "nbformat": 4,
 "nbformat_minor": 5
}
